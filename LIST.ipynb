{
  "nbformat": 4,
  "nbformat_minor": 0,
  "metadata": {
    "colab": {
      "provenance": [],
      "authorship_tag": "ABX9TyMQbxTZtNsWWfoOnTO3xvBP",
      "include_colab_link": true
    },
    "kernelspec": {
      "name": "python3",
      "display_name": "Python 3"
    },
    "language_info": {
      "name": "python"
    }
  },
  "cells": [
    {
      "cell_type": "markdown",
      "metadata": {
        "id": "view-in-github",
        "colab_type": "text"
      },
      "source": [
        "<a href=\"https://colab.research.google.com/github/Nhat-Hieu/BaiTap1/blob/main/LIST.ipynb\" target=\"_parent\"><img src=\"https://colab.research.google.com/assets/colab-badge.svg\" alt=\"Open In Colab\"/></a>"
      ]
    },
    {
      "cell_type": "code",
      "execution_count": 5,
      "metadata": {
        "id": "53KUSC1vhqwe"
      },
      "outputs": [],
      "source": [
        "x = []"
      ]
    },
    {
      "cell_type": "code",
      "source": [
        "x.append(18)"
      ],
      "metadata": {
        "id": "ZgkdXXeQhtQU"
      },
      "execution_count": 6,
      "outputs": []
    },
    {
      "cell_type": "code",
      "source": [
        "x. append(\"Huế\")"
      ],
      "metadata": {
        "id": "S3RuHGuChrOX"
      },
      "execution_count": 11,
      "outputs": []
    },
    {
      "cell_type": "code",
      "source": [
        "y = [12, 45, -1, -0.56, \"abc\"]"
      ],
      "metadata": {
        "id": "FlG1ciJ1iftE"
      },
      "execution_count": 10,
      "outputs": []
    },
    {
      "cell_type": "code",
      "source": [
        "x.extend(y)"
      ],
      "metadata": {
        "id": "Fz1z2dgdirkd"
      },
      "execution_count": 13,
      "outputs": []
    },
    {
      "cell_type": "code",
      "source": [
        "print(x)"
      ],
      "metadata": {
        "colab": {
          "base_uri": "https://localhost:8080/"
        },
        "id": "NO4rH_NTi2Pl",
        "outputId": "e0843969-6fba-4d9f-943b-5409594f365b"
      },
      "execution_count": 15,
      "outputs": [
        {
          "output_type": "stream",
          "name": "stdout",
          "text": [
            "[18, 'Huế', 12, 45, -1, -0.56, 'abc']\n"
          ]
        }
      ]
    },
    {
      "cell_type": "code",
      "source": [
        "print(\"Giá trị của phần tử cuối cùng:\", x[-1])\n",
        "print(\"Giá trị của phần tử đầu tiên:\", x[0])"
      ],
      "metadata": {
        "colab": {
          "base_uri": "https://localhost:8080/"
        },
        "id": "NWZh_z42i9bd",
        "outputId": "96692075-11ca-4266-bccf-7bd1601ed330"
      },
      "execution_count": 17,
      "outputs": [
        {
          "output_type": "stream",
          "name": "stdout",
          "text": [
            "Giá trị của phần tử cuối cùng: abc\n",
            "Giá trị của phần tử đầu tiên: 18\n"
          ]
        }
      ]
    },
    {
      "cell_type": "code",
      "source": [
        "print(\"Giá trị của phần tử đầu tiên đến phần tử thứ 5 của x:\", x[:5])"
      ],
      "metadata": {
        "colab": {
          "base_uri": "https://localhost:8080/"
        },
        "id": "EVFFFfZMjg_d",
        "outputId": "26bc2a16-5a8a-4bb3-873c-40f876c09b91"
      },
      "execution_count": 19,
      "outputs": [
        {
          "output_type": "stream",
          "name": "stdout",
          "text": [
            "Giá trị của phần tử đầu tiên đến phần tử thứ 5 của x: [18, 'Huế', 12, 45, -1]\n"
          ]
        }
      ]
    },
    {
      "cell_type": "code",
      "source": [
        "print(\"Giá trị của phần từ thứ 3 đến cuối cùng của x:\", x[2:])"
      ],
      "metadata": {
        "colab": {
          "base_uri": "https://localhost:8080/"
        },
        "id": "_bw8pn8Qj67v",
        "outputId": "6a73826a-15f3-49c8-fa14-48e9c7e5cd62"
      },
      "execution_count": 20,
      "outputs": [
        {
          "output_type": "stream",
          "name": "stdout",
          "text": [
            "Giá trị của phần từ thứ 3 đến cuối cùng của x: [12, 45, -1, -0.56, 'abc']\n"
          ]
        }
      ]
    }
  ]
}