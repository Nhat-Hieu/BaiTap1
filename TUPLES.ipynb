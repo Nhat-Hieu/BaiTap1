{
  "nbformat": 4,
  "nbformat_minor": 0,
  "metadata": {
    "colab": {
      "provenance": [],
      "authorship_tag": "ABX9TyNQE/tqkILaHtpMcDqO7lEe",
      "include_colab_link": true
    },
    "kernelspec": {
      "name": "python3",
      "display_name": "Python 3"
    },
    "language_info": {
      "name": "python"
    }
  },
  "cells": [
    {
      "cell_type": "markdown",
      "metadata": {
        "id": "view-in-github",
        "colab_type": "text"
      },
      "source": [
        "<a href=\"https://colab.research.google.com/github/Nhat-Hieu/BaiTap1/blob/main/TUPLES.ipynb\" target=\"_parent\"><img src=\"https://colab.research.google.com/assets/colab-badge.svg\" alt=\"Open In Colab\"/></a>"
      ]
    },
    {
      "cell_type": "code",
      "execution_count": 9,
      "metadata": {
        "id": "XD-bTS12mfcg"
      },
      "outputs": [],
      "source": [
        "t = (12, 45, -1, -0.56, \"abc\", True)"
      ]
    },
    {
      "cell_type": "code",
      "source": [
        "print(t)"
      ],
      "metadata": {
        "colab": {
          "base_uri": "https://localhost:8080/"
        },
        "id": "pwYl3KN9mr-I",
        "outputId": "e56ef90c-819f-426a-d451-407fa0133ba3"
      },
      "execution_count": 10,
      "outputs": [
        {
          "output_type": "stream",
          "name": "stdout",
          "text": [
            "(12, 45, -1, -0.56, 'abc', True)\n"
          ]
        }
      ]
    },
    {
      "cell_type": "code",
      "source": [
        "print(\"Giá trị của phần tử cuối cùng của t\", t[-1])\n",
        "print(\"Giá trị của phần tử đầu tiên của t\", t[0])"
      ],
      "metadata": {
        "colab": {
          "base_uri": "https://localhost:8080/"
        },
        "id": "OMIqA68PmxGH",
        "outputId": "62f97747-117a-4213-e976-fbcc8c7a5c5d"
      },
      "execution_count": 14,
      "outputs": [
        {
          "output_type": "stream",
          "name": "stdout",
          "text": [
            "Giá trị của phần tử cuối cùng của t True\n",
            "Giá trị của phần tử đầu tiên của t 12\n"
          ]
        }
      ]
    },
    {
      "cell_type": "code",
      "source": [
        "print(\"Giá trị của phần tử đầu tiên đến phần tử thứ 4 của x\", t[:4])"
      ],
      "metadata": {
        "colab": {
          "base_uri": "https://localhost:8080/"
        },
        "id": "XkYCNEjLneCh",
        "outputId": "3471d681-5e02-4322-d279-b0444f1186ae"
      },
      "execution_count": 15,
      "outputs": [
        {
          "output_type": "stream",
          "name": "stdout",
          "text": [
            "Giá trị của phần tử đầu tiên đến phần tử thứ 4 của x (12, 45, -1, -0.56)\n"
          ]
        }
      ]
    },
    {
      "cell_type": "code",
      "source": [
        "print(\"Giá trị của phần từ thứ 3 đến cuối cùng của x\", t[2:])"
      ],
      "metadata": {
        "colab": {
          "base_uri": "https://localhost:8080/"
        },
        "id": "7w_Z0hzsnUoR",
        "outputId": "d279919a-1e01-4eb8-8024-cc29707dd64b"
      },
      "execution_count": 16,
      "outputs": [
        {
          "output_type": "stream",
          "name": "stdout",
          "text": [
            "Giá trị của phần từ thứ 3 đến cuối cùng của x (-1, -0.56, 'abc', True)\n"
          ]
        }
      ]
    },
    {
      "cell_type": "code",
      "source": [
        "t = list(t)\n",
        "type(t)"
      ],
      "metadata": {
        "colab": {
          "base_uri": "https://localhost:8080/"
        },
        "id": "wtPIBz0Anqdo",
        "outputId": "a597dc46-9dac-44f1-9d11-d710a0f48093"
      },
      "execution_count": 18,
      "outputs": [
        {
          "output_type": "execute_result",
          "data": {
            "text/plain": [
              "list"
            ]
          },
          "metadata": {},
          "execution_count": 18
        }
      ]
    }
  ]
}