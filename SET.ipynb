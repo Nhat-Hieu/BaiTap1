{
  "nbformat": 4,
  "nbformat_minor": 0,
  "metadata": {
    "colab": {
      "provenance": [],
      "authorship_tag": "ABX9TyPTOG36cUNQjI4f73PQxW0m",
      "include_colab_link": true
    },
    "kernelspec": {
      "name": "python3",
      "display_name": "Python 3"
    },
    "language_info": {
      "name": "python"
    }
  },
  "cells": [
    {
      "cell_type": "markdown",
      "metadata": {
        "id": "view-in-github",
        "colab_type": "text"
      },
      "source": [
        "<a href=\"https://colab.research.google.com/github/Nhat-Hieu/BaiTap1/blob/main/SET.ipynb\" target=\"_parent\"><img src=\"https://colab.research.google.com/assets/colab-badge.svg\" alt=\"Open In Colab\"/></a>"
      ]
    },
    {
      "cell_type": "code",
      "execution_count": 2,
      "metadata": {
        "id": "4gW6LDorocQp"
      },
      "outputs": [],
      "source": [
        "A = set([\"NNLT Python\",\"Đại số tuyến tính\" , \"Tiếng Anh chuyên ngành\", \"Thể dục\"])\n",
        "B = set([\"NNLT Python\",\"Đại số tuyến tính\", \"Tối ưu hóa\", \"Học Máy\", \"Học sâu\", \"Computer vision\", \"Natural Language Processing\", \"Recommender Systems\"])"
      ]
    },
    {
      "cell_type": "code",
      "source": [
        "print(A)\n",
        "print(B)"
      ],
      "metadata": {
        "colab": {
          "base_uri": "https://localhost:8080/"
        },
        "id": "Mv4JdVJXpUMp",
        "outputId": "f3d7061b-3760-467d-8183-a31bf0a743f6"
      },
      "execution_count": 3,
      "outputs": [
        {
          "output_type": "stream",
          "name": "stdout",
          "text": [
            "{'Đại số tuyến tính', 'Thể dục', 'Tiếng Anh chuyên ngành', 'NNLT Python'}\n",
            "{'Computer vision', 'Học Máy', 'Học sâu', 'Natural Language Processing', 'Recommender Systems', 'NNLT Python', 'Tối ưu hóa', 'Đại số tuyến tính'}\n"
          ]
        }
      ]
    },
    {
      "cell_type": "code",
      "source": [
        "print(\"A hợp B là:\",A.union(B))"
      ],
      "metadata": {
        "colab": {
          "base_uri": "https://localhost:8080/"
        },
        "id": "ROuYaF2_paH4",
        "outputId": "fadab492-47f2-4413-ae71-02567c14a69f"
      },
      "execution_count": 7,
      "outputs": [
        {
          "output_type": "stream",
          "name": "stdout",
          "text": [
            "A hợp B là: {'Computer vision', 'Học Máy', 'Học sâu', 'Natural Language Processing', 'Recommender Systems', 'Tiếng Anh chuyên ngành', 'NNLT Python', 'Tối ưu hóa', 'Thể dục', 'Đại số tuyến tính'}\n"
          ]
        }
      ]
    },
    {
      "cell_type": "code",
      "source": [
        "print(\"A giao B là:\",A.intersection(B))"
      ],
      "metadata": {
        "colab": {
          "base_uri": "https://localhost:8080/"
        },
        "id": "Dmjy4cxLp_lh",
        "outputId": "94222244-1136-4f60-a003-857ca75f1271"
      },
      "execution_count": 10,
      "outputs": [
        {
          "output_type": "stream",
          "name": "stdout",
          "text": [
            "A giao B là: {'NNLT Python', 'Đại số tuyến tính'}\n"
          ]
        }
      ]
    },
    {
      "cell_type": "code",
      "source": [
        "print(\"A\\B:\", A.difference(B))\n",
        "print(\"B\\A:\", B.difference(A))\n"
      ],
      "metadata": {
        "colab": {
          "base_uri": "https://localhost:8080/"
        },
        "id": "gKDmkS1RqIfv",
        "outputId": "a62d198f-9c18-4651-b8fe-a297f3ff821d"
      },
      "execution_count": 11,
      "outputs": [
        {
          "output_type": "stream",
          "name": "stdout",
          "text": [
            "A\\B: {'Tiếng Anh chuyên ngành', 'Thể dục'}\n",
            "B\\A: {'Computer vision', 'Học Máy', 'Học sâu', 'Natural Language Processing', 'Recommender Systems', 'Tối ưu hóa'}\n"
          ]
        }
      ]
    },
    {
      "cell_type": "code",
      "source": [
        "x = [1, 1, 1, 2, 2, 3, 3 ,3, 4 ,5 ,6, 7]\n",
        "print(x)"
      ],
      "metadata": {
        "colab": {
          "base_uri": "https://localhost:8080/"
        },
        "id": "jY-JuHzcrOYE",
        "outputId": "d99fb009-c71b-4645-83bb-9a67ff9f4c00"
      },
      "execution_count": 15,
      "outputs": [
        {
          "output_type": "stream",
          "name": "stdout",
          "text": [
            "[1, 1, 1, 2, 2, 3, 3, 3, 4, 5, 6, 7]\n"
          ]
        }
      ]
    },
    {
      "cell_type": "code",
      "source": [
        "x = set(x)\n",
        "print(x)"
      ],
      "metadata": {
        "colab": {
          "base_uri": "https://localhost:8080/"
        },
        "id": "1K_Gagk6rdQ8",
        "outputId": "79176062-44b2-49f5-99f7-9d2126b6a5ea"
      },
      "execution_count": 16,
      "outputs": [
        {
          "output_type": "stream",
          "name": "stdout",
          "text": [
            "{1, 2, 3, 4, 5, 6, 7}\n"
          ]
        }
      ]
    }
  ]
}